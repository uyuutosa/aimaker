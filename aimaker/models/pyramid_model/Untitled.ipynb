{
 "cells": [
  {
   "cell_type": "code",
   "execution_count": 1,
   "metadata": {},
   "outputs": [
    {
     "ename": "ImportError",
     "evalue": "attempted relative import with no known parent package",
     "output_type": "error",
     "traceback": [
      "\u001b[0;31m---------------------------------------------------------------------------\u001b[0m",
      "\u001b[0;31mImportError\u001b[0m                               Traceback (most recent call last)",
      "\u001b[0;32m<ipython-input-1-215ae9012eb9>\u001b[0m in \u001b[0;36m<module>\u001b[0;34m()\u001b[0m\n\u001b[0;32m----> 1\u001b[0;31m \u001b[0;32mimport\u001b[0m \u001b[0mgenerator\u001b[0m\u001b[0;34m\u001b[0m\u001b[0;34m\u001b[0m\u001b[0m\n\u001b[0m",
      "\u001b[0;32m~/proj/aimaker/models/pyramid_model/generator.py\u001b[0m in \u001b[0;36m<module>\u001b[0;34m()\u001b[0m\n\u001b[1;32m      5\u001b[0m \u001b[0;32mfrom\u001b[0m \u001b[0mtorch\u001b[0m\u001b[0;34m.\u001b[0m\u001b[0mnn\u001b[0m \u001b[0;32mimport\u001b[0m \u001b[0mfunctional\u001b[0m \u001b[0;32mas\u001b[0m \u001b[0mF\u001b[0m\u001b[0;34m\u001b[0m\u001b[0;34m\u001b[0m\u001b[0m\n\u001b[1;32m      6\u001b[0m \u001b[0;32mimport\u001b[0m \u001b[0mtorch\u001b[0m\u001b[0;34m.\u001b[0m\u001b[0mnn\u001b[0m \u001b[0;32mas\u001b[0m \u001b[0mnn\u001b[0m\u001b[0;34m\u001b[0m\u001b[0;34m\u001b[0m\u001b[0m\n\u001b[0;32m----> 7\u001b[0;31m \u001b[0;32mfrom\u001b[0m \u001b[0;34m.\u001b[0m\u001b[0mMobileNetV2\u001b[0m \u001b[0;32mimport\u001b[0m \u001b[0mMobileNetV2\u001b[0m\u001b[0;34m\u001b[0m\u001b[0;34m\u001b[0m\u001b[0m\n\u001b[0m\u001b[1;32m      8\u001b[0m \u001b[0;32mfrom\u001b[0m \u001b[0mnumpy\u001b[0m \u001b[0;32mimport\u001b[0m \u001b[0;34m*\u001b[0m\u001b[0;34m\u001b[0m\u001b[0;34m\u001b[0m\u001b[0m\n\u001b[1;32m      9\u001b[0m \u001b[0;34m\u001b[0m\u001b[0m\n",
      "\u001b[0;31mImportError\u001b[0m: attempted relative import with no known parent package"
     ]
    }
   ],
   "source": [
    "import generator"
   ]
  },
  {
   "cell_type": "code",
   "execution_count": null,
   "metadata": {},
   "outputs": [],
   "source": []
  },
  {
   "cell_type": "code",
   "execution_count": 43,
   "metadata": {},
   "outputs": [
    {
     "data": {
      "text/plain": [
       "832"
      ]
     },
     "execution_count": 43,
     "metadata": {},
     "output_type": "execute_result"
    }
   ],
   "source": [
    "w = 416\n",
    "s = 2\n",
    "p = 1\n",
    "d = 1\n",
    "k = 3\n",
    "o = 1\n",
    "(w-1)*s-2*p+d*(k-1)+o+1"
   ]
  },
  {
   "cell_type": "code",
   "execution_count": 47,
   "metadata": {},
   "outputs": [
    {
     "data": {
      "text/plain": [
       "\"['aaa', 2, 3]\""
      ]
     },
     "execution_count": 47,
     "metadata": {},
     "output_type": "execute_result"
    }
   ],
   "source": [
    "\"{}\".format([\"aaa\",2,3])"
   ]
  },
  {
   "cell_type": "code",
   "execution_count": null,
   "metadata": {},
   "outputs": [],
   "source": [
    "16,  208,  208],\n",
    "       [   1,   24,  104,  104],\n",
    "       [   1,   32,   52,   52],\n",
    "       [   1,   64,   26,   26],\n",
    "       [   1,   96,   26,   26],\n",
    "       [   1, 1280"
   ]
  },
  {
   "cell_type": "code",
   "execution_count": 131,
   "metadata": {},
   "outputs": [],
   "source": [
    "import torch, torchvision\n",
    "import os\n",
    "\n",
    "import torch\n",
    "import torch.nn\n",
    "from aimaker.models.base_model import BaseModel\n",
    "from torch.nn import functional as F\n",
    "import torch.nn as nn\n",
    "from MobileNetV2 import MobileNetV2\n",
    "from numpy import *\n",
    "\n",
    "class Output(nn.Module):\n",
    "    def __init__(self, in_channels, out_channels=3, kernel_size=3, stride=1, padding=1, act=nn.Tanh()):\n",
    "        super(Output, self).__init__()\n",
    "        self.conv = nn.Sequential(\n",
    "            nn.Conv2d(in_channels, out_channels, kernel_size=kernel_size, stride=stride, padding=padding),\n",
    "            act\n",
    "        )\n",
    "\n",
    "    def forward(self, X): \n",
    "        return self.conv(X)\n",
    "\n",
    "\n",
    "class UpSample(nn.Module):\n",
    "    def __init__(self, in_channels, out_channels=3, kernel_size=3, stride=2, padding=1, output_padding=1, act=nn.PReLU()):\n",
    "        super(UpSample, self).__init__()\n",
    "        self.conv = nn.Sequential(\n",
    "            nn.ConvTranspose2d(in_channels, out_channels, kernel_size=kernel_size, stride=stride, padding=padding, output_padding=output_padding),\n",
    "            nn.InstanceNorm2d(out_channels),\n",
    "            act\n",
    "        )\n",
    "\n",
    "    def forward(self, X): \n",
    "        return self.conv(X)\n",
    "\n",
    "class PyramidModelGenerator():\n",
    "    def __init__(self):\n",
    "        #super(PyramidModelGenerator, self).__init__(settings)\n",
    "        self.model_path = os.path.join('/'.join(os.getcwd().split('/')[:-1]), '../trained_models/mobilenet_v2.pth.tar')\n",
    "        state_dict = torch.load(self.model_path, map_location=torch.device('cpu'))\n",
    "        net = MobileNetV2()\n",
    "        net.load_state_dict(state_dict)\n",
    "        self.feature = torch.nn.Sequential(*list(list(net.children())[0:1][0].children()))\n",
    "        #self.feat_lst = array(self.feature)[array([1,3,6,10,13,18])].tolist()\n",
    "        self.e_lst = [1,3,6,10,13,18]\n",
    "        #self.up_lst  = [UpSample(x,y, kernel_size=k, stride=m, padding=p).to(self.gpu_ids[0]) for x,y,k,m,p in zip(self.out_channels_lst[:-1],self.in_channels_lst[1:], self.k_lst, self.m_lst, self.pad_lst)]\n",
    "        self.output = Output(18)\n",
    "        self._genUpsample()\n",
    "\n",
    "    def _genUpsample(self):\n",
    "        self.up_lst = []\n",
    "        self.up_1 = self._getUp(1, 16)\n",
    "        self.up_lst += [self.up_1] \n",
    "        self.up_2 = self._getUp(2, 24)\n",
    "        self.up_lst += [self.up_2]\n",
    "        self.up_3 = self._getUp(3, 32)\n",
    "        self.up_lst += [self.up_3]\n",
    "        self.up_4 = self._getUp(4, 64)\n",
    "        self.up_lst += [self.up_4]\n",
    "        self.up_5 = self._getUp(4, 96)\n",
    "        self.up_lst += [self.up_5]\n",
    "        self.up_6 = self._getUp(5, 1280)\n",
    "        self.up_lst += [self.up_6]\n",
    "\n",
    "    def _getUp(self, n_iter, in_channels):\n",
    "        lst = []\n",
    "        for i in range(n_iter-1):\n",
    "            lst += [UpSample(in_channels, in_channels)]\n",
    "        lst += [UpSample(in_channels)]\n",
    "        return torch.nn.Sequential(*lst)\n",
    "    \n",
    "    def _featureAggregation(self, X):\n",
    "        lst = []\n",
    "        n = 0\n",
    "        for i in range(len(self.feature)):\n",
    "            X = self.feature[i](X)\n",
    "            if i in self.e_lst:\n",
    "                lst += [self.up_lst[n](X)]\n",
    "                n += 1\n",
    "        return self.output(torch.cat(lst, dim=1))\n",
    "    \n",
    "    def _bottoleNeck(self, X):\n",
    "        return X\n",
    "    \n",
    "    def _aggregate(self, X_segment, X_bottleneck):\n",
    "        return torch.cat([X_segment, X_bottleneck], dim=1)\n",
    "    \n",
    "    def _segment(self, X_segment):\n",
    "        X = self.segment_bottleNeck(X_segment)\n",
    "        return X\n",
    "    \n",
    "    def _outputPoints(self, X):\n",
    "        x = x.max(dim=2)[0].argmax(2)\n",
    "        y = X.max(dim=3)[0].argmax(2)\n",
    "        return torch.cat([x[:,:, None],y[:,:,None]],dim=2)\n",
    "\n",
    "    def forward(self, X):\n",
    "        X = self._featureAggregation(X)\n",
    "        X_bottleneck = self._bottleNeck(X)\n",
    "        X_segment, map_segment = self._segment(X)\n",
    "        X = self._aggregate(X_segment, X_bottleneck)\n",
    "        map_point = self._outputPoints(X)\n",
    "        X_point = self._convertCoordinate(map_point)\n",
    "        trifocal_tensor = self._genTrifocalTensor(X_point)\n",
    "        return map_point, X_point, map_segment\n",
    "        \n",
    "        "
   ]
  },
  {
   "cell_type": "code",
   "execution_count": 158,
   "metadata": {},
   "outputs": [],
   "source": [
    "a,b = torch.Tensor(random.randn(1,52,128,128)),torch.Tensor(random.randn(2,10).T)"
   ]
  },
  {
   "cell_type": "code",
   "execution_count": 159,
   "metadata": {},
   "outputs": [
    {
     "data": {
      "text/plain": [
       "torch.Size([1, 52, 128, 128])"
      ]
     },
     "execution_count": 159,
     "metadata": {},
     "output_type": "execute_result"
    }
   ],
   "source": [
    "a.shape"
   ]
  },
  {
   "cell_type": "code",
   "execution_count": 168,
   "metadata": {},
   "outputs": [
    {
     "data": {
      "text/plain": [
       "torch.Size([1, 52, 2])"
      ]
     },
     "execution_count": 168,
     "metadata": {},
     "output_type": "execute_result"
    }
   ],
   "source": [
    ".shape"
   ]
  },
  {
   "cell_type": "code",
   "execution_count": 163,
   "metadata": {},
   "outputs": [],
   "source": [
    "x = a.max(dim=2)[0].argmax(2)\n",
    "y = a.max(dim=3)[0].argmax(2)"
   ]
  },
  {
   "cell_type": "code",
   "execution_count": 136,
   "metadata": {},
   "outputs": [],
   "source": [
    "net = PyramidModelGenerator()"
   ]
  },
  {
   "cell_type": "code",
   "execution_count": 139,
   "metadata": {},
   "outputs": [],
   "source": [
    "ret = net._featureAggregation(torch.Tensor(1,3,416,416))"
   ]
  },
  {
   "cell_type": "code",
   "execution_count": 138,
   "metadata": {},
   "outputs": [
    {
     "data": {
      "text/plain": [
       "torch.Size([1, 3, 416, 416])"
      ]
     },
     "execution_count": 138,
     "metadata": {},
     "output_type": "execute_result"
    }
   ],
   "source": [
    "ret.shape"
   ]
  },
  {
   "cell_type": "code",
   "execution_count": 54,
   "metadata": {},
   "outputs": [
    {
     "name": "stdout",
     "output_type": "stream",
     "text": [
      "True\n",
      "True\n",
      "True\n",
      "True\n",
      "True\n",
      "True\n",
      "True\n",
      "True\n",
      "True\n",
      "True\n",
      "True\n",
      "True\n",
      "True\n",
      "True\n",
      "True\n",
      "True\n",
      "True\n",
      "True\n",
      "True\n",
      "True\n",
      "True\n",
      "True\n",
      "True\n",
      "True\n",
      "True\n",
      "True\n",
      "True\n",
      "True\n",
      "True\n",
      "True\n",
      "True\n",
      "True\n",
      "True\n",
      "True\n",
      "True\n",
      "True\n",
      "True\n",
      "True\n",
      "True\n",
      "True\n",
      "True\n",
      "True\n",
      "True\n",
      "True\n",
      "True\n",
      "True\n",
      "True\n",
      "True\n",
      "True\n",
      "True\n",
      "True\n",
      "True\n",
      "True\n",
      "True\n",
      "True\n",
      "True\n",
      "True\n",
      "True\n",
      "True\n",
      "True\n",
      "True\n",
      "True\n",
      "True\n",
      "True\n",
      "True\n",
      "True\n",
      "True\n",
      "True\n",
      "True\n",
      "True\n",
      "True\n",
      "True\n",
      "True\n",
      "True\n",
      "True\n",
      "True\n",
      "True\n",
      "True\n",
      "True\n",
      "True\n",
      "True\n",
      "True\n",
      "True\n",
      "True\n",
      "True\n",
      "True\n",
      "True\n",
      "True\n",
      "True\n",
      "True\n",
      "True\n",
      "True\n",
      "True\n",
      "True\n",
      "True\n",
      "True\n",
      "True\n",
      "True\n",
      "True\n",
      "True\n",
      "True\n",
      "True\n",
      "True\n",
      "True\n",
      "True\n",
      "True\n",
      "True\n",
      "True\n",
      "True\n",
      "True\n",
      "True\n",
      "True\n",
      "True\n",
      "True\n",
      "True\n",
      "True\n",
      "True\n",
      "True\n",
      "True\n",
      "True\n",
      "True\n",
      "True\n",
      "True\n",
      "True\n",
      "True\n",
      "True\n",
      "True\n",
      "True\n",
      "True\n",
      "True\n",
      "True\n",
      "True\n",
      "True\n",
      "True\n",
      "True\n",
      "True\n",
      "True\n",
      "True\n",
      "True\n",
      "True\n",
      "True\n",
      "True\n",
      "True\n",
      "True\n",
      "True\n",
      "True\n",
      "True\n",
      "True\n",
      "True\n",
      "True\n",
      "True\n",
      "True\n",
      "True\n",
      "True\n",
      "True\n",
      "True\n",
      "True\n",
      "True\n"
     ]
    }
   ],
   "source": [
    "for param in net.parameters():\n",
    "    print(param.requires_grad)"
   ]
  },
  {
   "cell_type": "code",
   "execution_count": 13,
   "metadata": {},
   "outputs": [
    {
     "name": "stdout",
     "output_type": "stream",
     "text": [
      "\u001b[0m\u001b[01;32mMobileNetV2.py\u001b[0m*  Untitled.ipynb  \u001b[01;34m__pycache__\u001b[0m/  generator.py\r\n"
     ]
    }
   ],
   "source": [
    "ls"
   ]
  },
  {
   "cell_type": "code",
   "execution_count": 14,
   "metadata": {},
   "outputs": [],
   "source": [
    "state_dict = torch.load(\"../../trained_models/mobilenet_v2.pth.tar\")"
   ]
  },
  {
   "cell_type": "code",
   "execution_count": 23,
   "metadata": {},
   "outputs": [
    {
     "data": {
      "text/plain": [
       "torch.Size([32])"
      ]
     },
     "execution_count": 23,
     "metadata": {},
     "output_type": "execute_result"
    }
   ],
   "source": [
    "state_dict['features.0.1.weight'].shape"
   ]
  },
  {
   "cell_type": "code",
   "execution_count": 31,
   "metadata": {
    "scrolled": false
   },
   "outputs": [],
   "source": [
    "net.load_state_dict(state_dict)\n",
    "feature = torch.nn.Sequential(*list(list(net.children())[0:1][0].children()))"
   ]
  },
  {
   "cell_type": "code",
   "execution_count": 35,
   "metadata": {},
   "outputs": [],
   "source": [
    "lst = []\n",
    "X = torch.Tensor(1,3,416,416)\n",
    "for n in feature:\n",
    "    X = n(X)\n",
    "    lst += [X.shape]\n",
    "    "
   ]
  },
  {
   "cell_type": "code",
   "execution_count": 37,
   "metadata": {},
   "outputs": [],
   "source": [
    "from numpy import *"
   ]
  },
  {
   "cell_type": "code",
   "execution_count": 94,
   "metadata": {},
   "outputs": [
    {
     "data": {
      "text/plain": [
       "array([[   1,   16,  208,  208],\n",
       "       [   1,   24,  104,  104],\n",
       "       [   1,   32,   52,   52],\n",
       "       [   1,   64,   26,   26],\n",
       "       [   1,   96,   26,   26],\n",
       "       [   1, 1280,   13,   13]])"
      ]
     },
     "execution_count": 94,
     "metadata": {},
     "output_type": "execute_result"
    }
   ],
   "source": [
    "array(lst)[array([1,3,6,10,13,18])]"
   ]
  },
  {
   "cell_type": "code",
   "execution_count": 50,
   "metadata": {},
   "outputs": [
    {
     "data": {
      "text/plain": [
       "[InvertedResidual(\n",
       "   (conv): Sequential(\n",
       "     (0): Conv2d(32, 32, kernel_size=(3, 3), stride=(1, 1), padding=(1, 1), groups=32, bias=False)\n",
       "     (1): BatchNorm2d(32, eps=1e-05, momentum=0.1, affine=True, track_running_stats=True)\n",
       "     (2): ReLU6(inplace)\n",
       "     (3): Conv2d(32, 16, kernel_size=(1, 1), stride=(1, 1), bias=False)\n",
       "     (4): BatchNorm2d(16, eps=1e-05, momentum=0.1, affine=True, track_running_stats=True)\n",
       "   )\n",
       " ), InvertedResidual(\n",
       "   (conv): Sequential(\n",
       "     (0): Conv2d(24, 144, kernel_size=(1, 1), stride=(1, 1), bias=False)\n",
       "     (1): BatchNorm2d(144, eps=1e-05, momentum=0.1, affine=True, track_running_stats=True)\n",
       "     (2): ReLU6(inplace)\n",
       "     (3): Conv2d(144, 144, kernel_size=(3, 3), stride=(1, 1), padding=(1, 1), groups=144, bias=False)\n",
       "     (4): BatchNorm2d(144, eps=1e-05, momentum=0.1, affine=True, track_running_stats=True)\n",
       "     (5): ReLU6(inplace)\n",
       "     (6): Conv2d(144, 24, kernel_size=(1, 1), stride=(1, 1), bias=False)\n",
       "     (7): BatchNorm2d(24, eps=1e-05, momentum=0.1, affine=True, track_running_stats=True)\n",
       "   )\n",
       " ), InvertedResidual(\n",
       "   (conv): Sequential(\n",
       "     (0): Conv2d(32, 192, kernel_size=(1, 1), stride=(1, 1), bias=False)\n",
       "     (1): BatchNorm2d(192, eps=1e-05, momentum=0.1, affine=True, track_running_stats=True)\n",
       "     (2): ReLU6(inplace)\n",
       "     (3): Conv2d(192, 192, kernel_size=(3, 3), stride=(1, 1), padding=(1, 1), groups=192, bias=False)\n",
       "     (4): BatchNorm2d(192, eps=1e-05, momentum=0.1, affine=True, track_running_stats=True)\n",
       "     (5): ReLU6(inplace)\n",
       "     (6): Conv2d(192, 32, kernel_size=(1, 1), stride=(1, 1), bias=False)\n",
       "     (7): BatchNorm2d(32, eps=1e-05, momentum=0.1, affine=True, track_running_stats=True)\n",
       "   )\n",
       " ), InvertedResidual(\n",
       "   (conv): Sequential(\n",
       "     (0): Conv2d(64, 384, kernel_size=(1, 1), stride=(1, 1), bias=False)\n",
       "     (1): BatchNorm2d(384, eps=1e-05, momentum=0.1, affine=True, track_running_stats=True)\n",
       "     (2): ReLU6(inplace)\n",
       "     (3): Conv2d(384, 384, kernel_size=(3, 3), stride=(1, 1), padding=(1, 1), groups=384, bias=False)\n",
       "     (4): BatchNorm2d(384, eps=1e-05, momentum=0.1, affine=True, track_running_stats=True)\n",
       "     (5): ReLU6(inplace)\n",
       "     (6): Conv2d(384, 64, kernel_size=(1, 1), stride=(1, 1), bias=False)\n",
       "     (7): BatchNorm2d(64, eps=1e-05, momentum=0.1, affine=True, track_running_stats=True)\n",
       "   )\n",
       " ), InvertedResidual(\n",
       "   (conv): Sequential(\n",
       "     (0): Conv2d(96, 576, kernel_size=(1, 1), stride=(1, 1), bias=False)\n",
       "     (1): BatchNorm2d(576, eps=1e-05, momentum=0.1, affine=True, track_running_stats=True)\n",
       "     (2): ReLU6(inplace)\n",
       "     (3): Conv2d(576, 576, kernel_size=(3, 3), stride=(1, 1), padding=(1, 1), groups=576, bias=False)\n",
       "     (4): BatchNorm2d(576, eps=1e-05, momentum=0.1, affine=True, track_running_stats=True)\n",
       "     (5): ReLU6(inplace)\n",
       "     (6): Conv2d(576, 96, kernel_size=(1, 1), stride=(1, 1), bias=False)\n",
       "     (7): BatchNorm2d(96, eps=1e-05, momentum=0.1, affine=True, track_running_stats=True)\n",
       "   )\n",
       " ), Sequential(\n",
       "   (0): Conv2d(320, 1280, kernel_size=(1, 1), stride=(1, 1), bias=False)\n",
       "   (1): BatchNorm2d(1280, eps=1e-05, momentum=0.1, affine=True, track_running_stats=True)\n",
       "   (2): ReLU6(inplace)\n",
       " )]"
      ]
     },
     "execution_count": 50,
     "metadata": {},
     "output_type": "execute_result"
    }
   ],
   "source": []
  },
  {
   "cell_type": "code",
   "execution_count": 43,
   "metadata": {},
   "outputs": [
    {
     "data": {
      "text/plain": [
       "832"
      ]
     },
     "execution_count": 43,
     "metadata": {},
     "output_type": "execute_result"
    }
   ],
   "source": [
    "w = 416\n",
    "s = 2\n",
    "p = 1\n",
    "d = 1\n",
    "k = 3\n",
    "o = 1\n",
    "(w-1)*s-2*p+d*(k-1)+o+1"
   ]
  },
  {
   "cell_type": "code",
   "execution_count": 45,
   "metadata": {},
   "outputs": [
    {
     "data": {
      "text/plain": [
       "torch.Size([1, 1, 832, 832])"
      ]
     },
     "execution_count": 45,
     "metadata": {},
     "output_type": "execute_result"
    }
   ],
   "source": [
    "(torch.Tensor(1,1,416,416)).shape"
   ]
  },
  {
   "cell_type": "code",
   "execution_count": 22,
   "metadata": {},
   "outputs": [
    {
     "name": "stdout",
     "output_type": "stream",
     "text": [
      "odict_keys(['features.0.0.weight', 'features.0.1.weight', 'features.0.1.bias', 'features.0.1.running_mean', 'features.0.1.running_var', 'features.1.conv.0.weight', 'features.1.conv.1.weight', 'features.1.conv.1.bias', 'features.1.conv.1.running_mean', 'features.1.conv.1.running_var', 'features.1.conv.3.weight', 'features.1.conv.4.weight', 'features.1.conv.4.bias', 'features.1.conv.4.running_mean', 'features.1.conv.4.running_var', 'features.2.conv.0.weight', 'features.2.conv.1.weight', 'features.2.conv.1.bias', 'features.2.conv.1.running_mean', 'features.2.conv.1.running_var', 'features.2.conv.3.weight', 'features.2.conv.4.weight', 'features.2.conv.4.bias', 'features.2.conv.4.running_mean', 'features.2.conv.4.running_var', 'features.2.conv.6.weight', 'features.2.conv.7.weight', 'features.2.conv.7.bias', 'features.2.conv.7.running_mean', 'features.2.conv.7.running_var', 'features.3.conv.0.weight', 'features.3.conv.1.weight', 'features.3.conv.1.bias', 'features.3.conv.1.running_mean', 'features.3.conv.1.running_var', 'features.3.conv.3.weight', 'features.3.conv.4.weight', 'features.3.conv.4.bias', 'features.3.conv.4.running_mean', 'features.3.conv.4.running_var', 'features.3.conv.6.weight', 'features.3.conv.7.weight', 'features.3.conv.7.bias', 'features.3.conv.7.running_mean', 'features.3.conv.7.running_var', 'features.4.conv.0.weight', 'features.4.conv.1.weight', 'features.4.conv.1.bias', 'features.4.conv.1.running_mean', 'features.4.conv.1.running_var', 'features.4.conv.3.weight', 'features.4.conv.4.weight', 'features.4.conv.4.bias', 'features.4.conv.4.running_mean', 'features.4.conv.4.running_var', 'features.4.conv.6.weight', 'features.4.conv.7.weight', 'features.4.conv.7.bias', 'features.4.conv.7.running_mean', 'features.4.conv.7.running_var', 'features.5.conv.0.weight', 'features.5.conv.1.weight', 'features.5.conv.1.bias', 'features.5.conv.1.running_mean', 'features.5.conv.1.running_var', 'features.5.conv.3.weight', 'features.5.conv.4.weight', 'features.5.conv.4.bias', 'features.5.conv.4.running_mean', 'features.5.conv.4.running_var', 'features.5.conv.6.weight', 'features.5.conv.7.weight', 'features.5.conv.7.bias', 'features.5.conv.7.running_mean', 'features.5.conv.7.running_var', 'features.6.conv.0.weight', 'features.6.conv.1.weight', 'features.6.conv.1.bias', 'features.6.conv.1.running_mean', 'features.6.conv.1.running_var', 'features.6.conv.3.weight', 'features.6.conv.4.weight', 'features.6.conv.4.bias', 'features.6.conv.4.running_mean', 'features.6.conv.4.running_var', 'features.6.conv.6.weight', 'features.6.conv.7.weight', 'features.6.conv.7.bias', 'features.6.conv.7.running_mean', 'features.6.conv.7.running_var', 'features.7.conv.0.weight', 'features.7.conv.1.weight', 'features.7.conv.1.bias', 'features.7.conv.1.running_mean', 'features.7.conv.1.running_var', 'features.7.conv.3.weight', 'features.7.conv.4.weight', 'features.7.conv.4.bias', 'features.7.conv.4.running_mean', 'features.7.conv.4.running_var', 'features.7.conv.6.weight', 'features.7.conv.7.weight', 'features.7.conv.7.bias', 'features.7.conv.7.running_mean', 'features.7.conv.7.running_var', 'features.8.conv.0.weight', 'features.8.conv.1.weight', 'features.8.conv.1.bias', 'features.8.conv.1.running_mean', 'features.8.conv.1.running_var', 'features.8.conv.3.weight', 'features.8.conv.4.weight', 'features.8.conv.4.bias', 'features.8.conv.4.running_mean', 'features.8.conv.4.running_var', 'features.8.conv.6.weight', 'features.8.conv.7.weight', 'features.8.conv.7.bias', 'features.8.conv.7.running_mean', 'features.8.conv.7.running_var', 'features.9.conv.0.weight', 'features.9.conv.1.weight', 'features.9.conv.1.bias', 'features.9.conv.1.running_mean', 'features.9.conv.1.running_var', 'features.9.conv.3.weight', 'features.9.conv.4.weight', 'features.9.conv.4.bias', 'features.9.conv.4.running_mean', 'features.9.conv.4.running_var', 'features.9.conv.6.weight', 'features.9.conv.7.weight', 'features.9.conv.7.bias', 'features.9.conv.7.running_mean', 'features.9.conv.7.running_var', 'features.10.conv.0.weight', 'features.10.conv.1.weight', 'features.10.conv.1.bias', 'features.10.conv.1.running_mean', 'features.10.conv.1.running_var', 'features.10.conv.3.weight', 'features.10.conv.4.weight', 'features.10.conv.4.bias', 'features.10.conv.4.running_mean', 'features.10.conv.4.running_var', 'features.10.conv.6.weight', 'features.10.conv.7.weight', 'features.10.conv.7.bias', 'features.10.conv.7.running_mean', 'features.10.conv.7.running_var', 'features.11.conv.0.weight', 'features.11.conv.1.weight', 'features.11.conv.1.bias', 'features.11.conv.1.running_mean', 'features.11.conv.1.running_var', 'features.11.conv.3.weight', 'features.11.conv.4.weight', 'features.11.conv.4.bias', 'features.11.conv.4.running_mean', 'features.11.conv.4.running_var', 'features.11.conv.6.weight', 'features.11.conv.7.weight', 'features.11.conv.7.bias', 'features.11.conv.7.running_mean', 'features.11.conv.7.running_var', 'features.12.conv.0.weight', 'features.12.conv.1.weight', 'features.12.conv.1.bias', 'features.12.conv.1.running_mean', 'features.12.conv.1.running_var', 'features.12.conv.3.weight', 'features.12.conv.4.weight', 'features.12.conv.4.bias', 'features.12.conv.4.running_mean', 'features.12.conv.4.running_var', 'features.12.conv.6.weight', 'features.12.conv.7.weight', 'features.12.conv.7.bias', 'features.12.conv.7.running_mean', 'features.12.conv.7.running_var', 'features.13.conv.0.weight', 'features.13.conv.1.weight', 'features.13.conv.1.bias', 'features.13.conv.1.running_mean', 'features.13.conv.1.running_var', 'features.13.conv.3.weight', 'features.13.conv.4.weight', 'features.13.conv.4.bias', 'features.13.conv.4.running_mean', 'features.13.conv.4.running_var', 'features.13.conv.6.weight', 'features.13.conv.7.weight', 'features.13.conv.7.bias', 'features.13.conv.7.running_mean', 'features.13.conv.7.running_var', 'features.14.conv.0.weight', 'features.14.conv.1.weight', 'features.14.conv.1.bias', 'features.14.conv.1.running_mean', 'features.14.conv.1.running_var', 'features.14.conv.3.weight', 'features.14.conv.4.weight', 'features.14.conv.4.bias', 'features.14.conv.4.running_mean', 'features.14.conv.4.running_var', 'features.14.conv.6.weight', 'features.14.conv.7.weight', 'features.14.conv.7.bias', 'features.14.conv.7.running_mean', 'features.14.conv.7.running_var', 'features.15.conv.0.weight', 'features.15.conv.1.weight', 'features.15.conv.1.bias', 'features.15.conv.1.running_mean', 'features.15.conv.1.running_var', 'features.15.conv.3.weight', 'features.15.conv.4.weight', 'features.15.conv.4.bias', 'features.15.conv.4.running_mean', 'features.15.conv.4.running_var', 'features.15.conv.6.weight', 'features.15.conv.7.weight', 'features.15.conv.7.bias', 'features.15.conv.7.running_mean', 'features.15.conv.7.running_var', 'features.16.conv.0.weight', 'features.16.conv.1.weight', 'features.16.conv.1.bias', 'features.16.conv.1.running_mean', 'features.16.conv.1.running_var', 'features.16.conv.3.weight', 'features.16.conv.4.weight', 'features.16.conv.4.bias', 'features.16.conv.4.running_mean', 'features.16.conv.4.running_var', 'features.16.conv.6.weight', 'features.16.conv.7.weight', 'features.16.conv.7.bias', 'features.16.conv.7.running_mean', 'features.16.conv.7.running_var', 'features.17.conv.0.weight', 'features.17.conv.1.weight', 'features.17.conv.1.bias', 'features.17.conv.1.running_mean', 'features.17.conv.1.running_var', 'features.17.conv.3.weight', 'features.17.conv.4.weight', 'features.17.conv.4.bias', 'features.17.conv.4.running_mean', 'features.17.conv.4.running_var', 'features.17.conv.6.weight', 'features.17.conv.7.weight', 'features.17.conv.7.bias', 'features.17.conv.7.running_mean', 'features.17.conv.7.running_var', 'features.18.0.weight', 'features.18.1.weight', 'features.18.1.bias', 'features.18.1.running_mean', 'features.18.1.running_var', 'classifier.1.weight', 'classifier.1.bias'])\n"
     ]
    }
   ],
   "source": [
    "import pprint \n",
    "pprint.pprint(state_dict.keys())"
   ]
  },
  {
   "cell_type": "code",
   "execution_count": null,
   "metadata": {},
   "outputs": [],
   "source": []
  }
 ],
 "metadata": {
  "kernelspec": {
   "display_name": "Python 3",
   "language": "python",
   "name": "python3"
  },
  "language_info": {
   "codemirror_mode": {
    "name": "ipython",
    "version": 3
   },
   "file_extension": ".py",
   "mimetype": "text/x-python",
   "name": "python",
   "nbconvert_exporter": "python",
   "pygments_lexer": "ipython3",
   "version": "3.6.8"
  }
 },
 "nbformat": 4,
 "nbformat_minor": 2
}
